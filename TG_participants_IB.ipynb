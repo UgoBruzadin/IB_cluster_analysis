{
 "cells": [
  {
   "cell_type": "code",
   "execution_count": null,
   "metadata": {},
   "outputs": [],
   "source": [
    "# Define Variables\n",
    "# Load participant's data, Specific to each stimulus\n",
    "# Make it into evoked in MNE? > No, want to decode on other stimuli\n",
    "# Run TG k-fold stratified\n",
    "# Run Cluster analysis on mean\n",
    "# Store values\n",
    "# Plot Squares"
   ]
  },
  {
   "cell_type": "code",
   "execution_count": 9,
   "metadata": {},
   "outputs": [
    {
     "name": "stdout",
     "output_type": "stream",
     "text": [
      "12\n",
      "Parallel decoding completed in 0.43 seconds.\n",
      "Results shape: 10 subjects, 19 windows.\n"
     ]
    }
   ],
   "source": [
    "import numpy as np\n",
    "from multiprocess import Pool, cpu_count\n",
    "import time\n",
    "\n",
    "# 1. Generate random EEG-like data\n",
    "n_subjects = 10  # Number of subjects\n",
    "n_channels = 100  # EEG channels\n",
    "n_timepoints = 1000  # Time points in the time series\n",
    "# split groups\n",
    "\n",
    "# 2. Parameters for windowing\n",
    "window_size = 100  # Length of each time window\n",
    "window_step = 50  # Step size between windows\n",
    "\n",
    "def create_windows(data, window_size, window_step):\n",
    "    \"\"\"Create time windows from time-series data.\"\"\"\n",
    "    n_timepoints = data.shape[-1]\n",
    "    return [\n",
    "        data[..., start:start + window_size]\n",
    "        for start in range(0, n_timepoints - window_size + 1, window_step)\n",
    "    ]\n",
    "\n",
    "# 3. Simulate a decoding function\n",
    "def decode_window(window):\n",
    "    \"\"\"Simulate decoding by computing mean and variance.\"\"\"\n",
    "    # Simulate computationally intensive processing\n",
    "    time.sleep(0.01)  # Add delay to mimic heavy computation\n",
    "    # import model\n",
    "    from sklearn.linear_model import LogisticRegression\n",
    "\n",
    "    logreg = LogisticRegression(C=1,penalty=\"l2\",tol=0.01,solver=\"saga\",max_iter=10000)\n",
    "    # run decoding\n",
    "    # output results\n",
    "    return np.mean(window), np.var(window)\n",
    "\n",
    "# 4. Function to process all windows for a single subject\n",
    "def process_subject(subject_data):\n",
    "    \"\"\"Process all time windows for a single subject.\"\"\"\n",
    "    windows = create_windows(subject_data, window_size, window_step)\n",
    "    results = [decode_window(window) for window in windows]\n",
    "    return results\n",
    "\n",
    "# 5. Multiprocessing implementation\n",
    "if __name__ == \"__main__\":\n",
    "    start_time = time.time()\n",
    "    \n",
    "    # Create a pool of processes\n",
    "    n_processes = cpu_count()  # Use all available CPUs\n",
    "    print(n_processes)\n",
    "    with Pool(n_processes) as pool:\n",
    "        # Process each subject's data in parallel\n",
    "        all_subject_results = pool.map(process_subject, eeg_data)\n",
    "    \n",
    "    end_time = time.time()\n",
    "    print(f\"Parallel decoding completed in {end_time - start_time:.2f} seconds.\")\n",
    "    print(f\"Results shape: {len(all_subject_results)} subjects, {len(all_subject_results[0])} windows.\")\n"
   ]
  },
  {
   "cell_type": "code",
   "execution_count": null,
   "metadata": {},
   "outputs": [
    {
     "ename": "OSError",
     "evalue": "dlopen(/Users/ugobruzadinnunes/anaconda3/envs/Triangulation/lib/python3.9/site-packages/lightgbm/lib/lib_lightgbm.so, 0x0006): Library not loaded: /usr/local/opt/libomp/lib/libomp.dylib\n  Referenced from: <C3EB28DD-60B6-3334-AFA2-72BBBF9DBAEF> /Users/ugobruzadinnunes/anaconda3/envs/Triangulation/lib/python3.9/site-packages/lightgbm/lib/lib_lightgbm.so\n  Reason: tried: '/usr/local/opt/libomp/lib/libomp.dylib' (no such file), '/System/Volumes/Preboot/Cryptexes/OS/usr/local/opt/libomp/lib/libomp.dylib' (no such file), '/usr/local/opt/libomp/lib/libomp.dylib' (no such file), '/usr/local/lib/libomp.dylib' (no such file), '/usr/lib/libomp.dylib' (no such file, not in dyld cache)",
     "output_type": "error",
     "traceback": [
      "\u001b[0;31m---------------------------------------------------------------------------\u001b[0m",
      "\u001b[0;31mOSError\u001b[0m                                   Traceback (most recent call last)",
      "Cell \u001b[0;32mIn[7], line 2\u001b[0m\n\u001b[1;32m      1\u001b[0m \u001b[38;5;28;01mimport\u001b[39;00m \u001b[38;5;21;01mxgboost\u001b[39;00m \u001b[38;5;28;01mas\u001b[39;00m \u001b[38;5;21;01mxgb\u001b[39;00m\n\u001b[0;32m----> 2\u001b[0m \u001b[38;5;28;01mimport\u001b[39;00m \u001b[38;5;21;01mlightgbm\u001b[39;00m \u001b[38;5;28;01mas\u001b[39;00m \u001b[38;5;21;01mlgb\u001b[39;00m\n\u001b[1;32m      3\u001b[0m \u001b[38;5;28;01mfrom\u001b[39;00m \u001b[38;5;21;01msklearn\u001b[39;00m\u001b[38;5;21;01m.\u001b[39;00m\u001b[38;5;21;01mdiscriminant_analysis\u001b[39;00m \u001b[38;5;28;01mimport\u001b[39;00m LinearDiscriminantAnalysis\n\u001b[1;32m      4\u001b[0m \u001b[38;5;28;01mfrom\u001b[39;00m \u001b[38;5;21;01msklearn\u001b[39;00m\u001b[38;5;21;01m.\u001b[39;00m\u001b[38;5;21;01mlinear_model\u001b[39;00m \u001b[38;5;28;01mimport\u001b[39;00m LogisticRegression\n",
      "File \u001b[0;32m~/anaconda3/envs/Triangulation/lib/python3.9/site-packages/lightgbm/__init__.py:8\u001b[0m\n\u001b[1;32m      2\u001b[0m \u001b[38;5;124;03m\"\"\"LightGBM, Light Gradient Boosting Machine.\u001b[39;00m\n\u001b[1;32m      3\u001b[0m \n\u001b[1;32m      4\u001b[0m \u001b[38;5;124;03mContributors: https://github.com/microsoft/LightGBM/graphs/contributors.\u001b[39;00m\n\u001b[1;32m      5\u001b[0m \u001b[38;5;124;03m\"\"\"\u001b[39;00m\n\u001b[1;32m      6\u001b[0m \u001b[38;5;28;01mfrom\u001b[39;00m \u001b[38;5;21;01mpathlib\u001b[39;00m \u001b[38;5;28;01mimport\u001b[39;00m Path\n\u001b[0;32m----> 8\u001b[0m \u001b[38;5;28;01mfrom\u001b[39;00m \u001b[38;5;21;01m.\u001b[39;00m\u001b[38;5;21;01mbasic\u001b[39;00m \u001b[38;5;28;01mimport\u001b[39;00m Booster, Dataset, Sequence, register_logger\n\u001b[1;32m      9\u001b[0m \u001b[38;5;28;01mfrom\u001b[39;00m \u001b[38;5;21;01m.\u001b[39;00m\u001b[38;5;21;01mcallback\u001b[39;00m \u001b[38;5;28;01mimport\u001b[39;00m EarlyStopException, early_stopping, log_evaluation, record_evaluation, reset_parameter\n\u001b[1;32m     10\u001b[0m \u001b[38;5;28;01mfrom\u001b[39;00m \u001b[38;5;21;01m.\u001b[39;00m\u001b[38;5;21;01mengine\u001b[39;00m \u001b[38;5;28;01mimport\u001b[39;00m CVBooster, cv, train\n",
      "File \u001b[0;32m~/anaconda3/envs/Triangulation/lib/python3.9/site-packages/lightgbm/basic.py:247\u001b[0m\n\u001b[1;32m    245\u001b[0m     _LIB \u001b[38;5;241m=\u001b[39m Mock(ctypes\u001b[38;5;241m.\u001b[39mCDLL)  \u001b[38;5;66;03m# type: ignore\u001b[39;00m\n\u001b[1;32m    246\u001b[0m \u001b[38;5;28;01melse\u001b[39;00m:\n\u001b[0;32m--> 247\u001b[0m     _LIB \u001b[38;5;241m=\u001b[39m \u001b[43m_load_lib\u001b[49m\u001b[43m(\u001b[49m\u001b[43m)\u001b[49m\n\u001b[1;32m    250\u001b[0m _NUMERIC_TYPES \u001b[38;5;241m=\u001b[39m (\u001b[38;5;28mint\u001b[39m, \u001b[38;5;28mfloat\u001b[39m, \u001b[38;5;28mbool\u001b[39m)\n\u001b[1;32m    251\u001b[0m _ArrayLike \u001b[38;5;241m=\u001b[39m Union[List, np\u001b[38;5;241m.\u001b[39mndarray, pd_Series]\n",
      "File \u001b[0;32m~/anaconda3/envs/Triangulation/lib/python3.9/site-packages/lightgbm/basic.py:232\u001b[0m, in \u001b[0;36m_load_lib\u001b[0;34m()\u001b[0m\n\u001b[1;32m    230\u001b[0m \u001b[38;5;250m\u001b[39m\u001b[38;5;124;03m\"\"\"Load LightGBM library.\"\"\"\u001b[39;00m\n\u001b[1;32m    231\u001b[0m lib_path \u001b[38;5;241m=\u001b[39m find_lib_path()\n\u001b[0;32m--> 232\u001b[0m lib \u001b[38;5;241m=\u001b[39m \u001b[43mctypes\u001b[49m\u001b[38;5;241;43m.\u001b[39;49m\u001b[43mcdll\u001b[49m\u001b[38;5;241;43m.\u001b[39;49m\u001b[43mLoadLibrary\u001b[49m\u001b[43m(\u001b[49m\u001b[43mlib_path\u001b[49m\u001b[43m[\u001b[49m\u001b[38;5;241;43m0\u001b[39;49m\u001b[43m]\u001b[49m\u001b[43m)\u001b[49m\n\u001b[1;32m    233\u001b[0m lib\u001b[38;5;241m.\u001b[39mLGBM_GetLastError\u001b[38;5;241m.\u001b[39mrestype \u001b[38;5;241m=\u001b[39m ctypes\u001b[38;5;241m.\u001b[39mc_char_p\n\u001b[1;32m    234\u001b[0m callback \u001b[38;5;241m=\u001b[39m ctypes\u001b[38;5;241m.\u001b[39mCFUNCTYPE(\u001b[38;5;28;01mNone\u001b[39;00m, ctypes\u001b[38;5;241m.\u001b[39mc_char_p)\n",
      "File \u001b[0;32m~/anaconda3/envs/Triangulation/lib/python3.9/ctypes/__init__.py:460\u001b[0m, in \u001b[0;36mLibraryLoader.LoadLibrary\u001b[0;34m(self, name)\u001b[0m\n\u001b[1;32m    459\u001b[0m \u001b[38;5;28;01mdef\u001b[39;00m \u001b[38;5;21mLoadLibrary\u001b[39m(\u001b[38;5;28mself\u001b[39m, name):\n\u001b[0;32m--> 460\u001b[0m     \u001b[38;5;28;01mreturn\u001b[39;00m \u001b[38;5;28;43mself\u001b[39;49m\u001b[38;5;241;43m.\u001b[39;49m\u001b[43m_dlltype\u001b[49m\u001b[43m(\u001b[49m\u001b[43mname\u001b[49m\u001b[43m)\u001b[49m\n",
      "File \u001b[0;32m~/anaconda3/envs/Triangulation/lib/python3.9/ctypes/__init__.py:382\u001b[0m, in \u001b[0;36mCDLL.__init__\u001b[0;34m(self, name, mode, handle, use_errno, use_last_error, winmode)\u001b[0m\n\u001b[1;32m    379\u001b[0m \u001b[38;5;28mself\u001b[39m\u001b[38;5;241m.\u001b[39m_FuncPtr \u001b[38;5;241m=\u001b[39m _FuncPtr\n\u001b[1;32m    381\u001b[0m \u001b[38;5;28;01mif\u001b[39;00m handle \u001b[38;5;129;01mis\u001b[39;00m \u001b[38;5;28;01mNone\u001b[39;00m:\n\u001b[0;32m--> 382\u001b[0m     \u001b[38;5;28mself\u001b[39m\u001b[38;5;241m.\u001b[39m_handle \u001b[38;5;241m=\u001b[39m \u001b[43m_dlopen\u001b[49m\u001b[43m(\u001b[49m\u001b[38;5;28;43mself\u001b[39;49m\u001b[38;5;241;43m.\u001b[39;49m\u001b[43m_name\u001b[49m\u001b[43m,\u001b[49m\u001b[43m \u001b[49m\u001b[43mmode\u001b[49m\u001b[43m)\u001b[49m\n\u001b[1;32m    383\u001b[0m \u001b[38;5;28;01melse\u001b[39;00m:\n\u001b[1;32m    384\u001b[0m     \u001b[38;5;28mself\u001b[39m\u001b[38;5;241m.\u001b[39m_handle \u001b[38;5;241m=\u001b[39m handle\n",
      "\u001b[0;31mOSError\u001b[0m: dlopen(/Users/ugobruzadinnunes/anaconda3/envs/Triangulation/lib/python3.9/site-packages/lightgbm/lib/lib_lightgbm.so, 0x0006): Library not loaded: /usr/local/opt/libomp/lib/libomp.dylib\n  Referenced from: <C3EB28DD-60B6-3334-AFA2-72BBBF9DBAEF> /Users/ugobruzadinnunes/anaconda3/envs/Triangulation/lib/python3.9/site-packages/lightgbm/lib/lib_lightgbm.so\n  Reason: tried: '/usr/local/opt/libomp/lib/libomp.dylib' (no such file), '/System/Volumes/Preboot/Cryptexes/OS/usr/local/opt/libomp/lib/libomp.dylib' (no such file), '/usr/local/opt/libomp/lib/libomp.dylib' (no such file), '/usr/local/lib/libomp.dylib' (no such file), '/usr/lib/libomp.dylib' (no such file, not in dyld cache)"
     ]
    }
   ],
   "source": [
    "import xgboost as xgb\n",
    "import lightgbm as lgb\n",
    "from sklearn.discriminant_analysis import LinearDiscriminantAnalysis\n",
    "from sklearn.linear_model import LogisticRegression\n",
    "from sklearn.linear_model import LinearRegression\n",
    "from sklearn.ensemble import AdaBoostClassifier\n",
    "\n",
    "\n",
    "##  DEFINING MODELS TO BE RUN\n",
    "is_cnn = False\n",
    "#models = [cnn]\n",
    "#models_name = ['CNN']\n",
    "\n",
    "haar = False\n",
    "lda = LinearDiscriminantAnalysis()\n",
    "logreg = LogisticRegression(C=1,penalty=\"l2\",tol=0.01,solver=\"saga\",max_iter=10000)\n",
    "linreg_model = LinearRegression()\n",
    "\n",
    "# Create a Decision Tree stump as a base estimator\n",
    "base_estimator = DecisionTreeClassifier(max_depth=1)\n",
    "\n",
    "# Create an AdaBoostClassifier with the Decision Tree stump as the base estimator\n",
    "adaBoost = AdaBoostClassifier(estimator=base_estimator, n_estimators=100)\n",
    "\n",
    "XGB_model = xgb.XGBClassifier(n_estimators=100, max_depth=1)\n",
    "forest = RandomForestClassifier(n_estimators=2000,criterion=\"entropy\",random_state=0,n_jobs=-1)\n",
    "knn = KNeighborsClassifier(n_neighbors=22, n_jobs=-1)\n",
    "svc_poly = SVC(kernel='poly',gamma='scale')\n",
    "svc_rbf = SVC(kernel='rbf',gamma='scale')\n",
    "svc_sigmoid = SVC(kernel='sigmoid',gamma='scale')\n",
    "svc = SVC(kernel='linear',gamma='scale')\n",
    "\n",
    "\n",
    "## DEFFINING THE CHOICES FOR THE MODELS\n",
    "models = [logreg]\n",
    "models_names = [model.__class__.__name__ for model in models]\n",
    "#models_name = ['LogReg']\n",
    "\n",
    "step_size = [5]\n",
    "window_sizes = [10]\n",
    "windows = [n for n in window_sizes]\n",
    "channels = [1,5,14]\n",
    "mods = 'raw'\n",
    "avgs = [8]\n",
    "percent = 70\n",
    "num_of_splits = 2\n",
    "\n",
    "#if file_name.find('deNoised'):\n",
    "mods = 'IB_TG_NoiseRemoval_RoundRobin'\n",
    "#if haar:\n",
    "#    mods = mods + 'haar'\n",
    "\n",
    "window_of_time = [500,1000]  # default -100 500\n",
    "win_size = np.shape(windows)\n",
    "\n",
    "\n",
    "import numpy as np\n",
    "import pickle\n",
    "import datetime\n",
    "import copy\n",
    "\n",
    "lab = 'reed'\n",
    "subject = 'all'\n",
    "all_data = Subject_Data(subject, num_splits = 2, lab = lab, directory = 'n/a',new=1,folder_path = os.getcwd(), include_patterns=['_BLINDED_'], exclude_patterns=['NOTBLINDED','phase3'])\n",
    "all_data.filter_data('groups', 1)\n",
    "\n"
   ]
  },
  {
   "cell_type": "code",
   "execution_count": 6,
   "metadata": {},
   "outputs": [
    {
     "name": "stdout",
     "output_type": "stream",
     "text": [
      "[[(0.003800797349926758, 1.0012807578129321), (-0.0036670836612288597, 0.9850216508821852), (-0.0116929558975872, 0.9989775690771737), (0.007865430482764679, 1.0249985171328522), (0.006110331230398249, 1.0259197313311392), (-0.003839550910252054, 1.0033744735031644), (0.00467950124698668, 0.97097259253823), (0.008695026965648021, 0.9727426414681138), (0.003856637496831493, 0.9952947593224071), (0.0008822562645344618, 1.0072922814190062), (0.003972464024201908, 1.0137648549848337), (0.00431351635500451, 1.012251123501866), (-0.006010818744997951, 1.0118118202593795), (-0.01967442592385086, 1.0229998145582258), (-0.011482357009820232, 1.0175920627014954), (0.0029980543563217065, 1.014892130804829), (-0.00168134940470716, 0.9919633290720848), (0.004294236488705433, 0.9723140161005013), (0.025156832820697462, 0.9828430858611295)], [(0.0010762071412106025, 1.0063310253508557), (-0.009204580233661034, 0.9988306242253578), (-0.0019596697757884576, 0.9891103297216393), (0.001127490882109676, 0.9796982051046971), (-0.0021240366389640936, 0.9894725442835599), (-0.0010993496173765439, 1.0120448149346848), (0.0038232669843766046, 1.0188145456681958), (0.012991739603856118, 1.0081431402841747), (0.011825811511228648, 0.9971163649390381), (0.0013698666360243432, 0.9899240586310738), (-0.0012614025098586354, 0.9704257432299328), (-0.012937799002667748, 0.9817797117381936), (-0.017040583819700243, 0.9978451639807152), (-0.002170634844548445, 1.0043935289563335), (-0.004284733650159798, 1.0253346276428563), (0.002205159295351784, 1.0213540493826971), (0.003542055763308576, 1.0053743574168488), (0.006159621238304871, 0.9931732779175912), (0.0014814893284806243, 0.9925227502415707)], [(-0.006352443024130554, 0.9783045942559766), (-0.006427004172692851, 0.9818459114294003), (-0.008014632740452186, 1.0014291979885943), (-0.003975165183334461, 1.0055689430710906), (-0.006189628387077285, 0.9872873510305086), (0.009299637758060177, 0.9874868352734307), (0.0016614801043335888, 0.9956371174557921), (-0.003780485346888198, 0.9831365749708896), (0.007280796789544121, 0.9772522281405048), (-0.008306935448754155, 0.9729015271241036), (-0.003372659185470602, 0.979810387823987), (0.00897542439861174, 0.9888621961048096), (0.01431288213779545, 1.0060295429951225), (0.013795019326015168, 1.0108931738607456), (0.0029290178666906896, 0.9829853422376582), (0.0026509902638536054, 0.9812511193101368), (-0.0023600405697392825, 0.9820551804015591), (-0.009163894243573504, 0.9861555534493236), (-0.006924407593163198, 1.0239356464715976)], [(0.003692195822384312, 1.0056927918900553), (-0.00794042079592699, 1.0039472133602096), (-0.008180411778009156, 0.9940222315453991), (-0.003026896731012707, 0.9841365579914214), (-0.010872613459143546, 0.9823423885078933), (0.0011525533799513021, 0.9860990323199378), (0.010647438790599054, 0.9943867141654468), (0.010719046899234289, 0.996641199684456), (0.003641405369402812, 0.9874735225544807), (0.002973137842759603, 1.0033705141675833), (0.01120194383619902, 0.9978576808813369), (0.006927767950928609, 1.000481318225176), (-0.010882856763985479, 1.0171704790078646), (-0.011325483577592454, 1.0061513074770727), (0.005669498451468763, 0.9910922102977354), (-0.006138044968613716, 0.977249004053806), (-0.0026395109155039984, 0.9863381572394868), (0.012896073063653231, 0.993108682587688), (0.004732650016468448, 0.9762784746142399)], [(0.004957440525706275, 0.9985955464367177), (-0.001874293293030499, 1.0048957759293569), (-0.011370132913736617, 1.0023717179210403), (-0.02500111275992077, 0.9785897458255802), (-0.018178091578928315, 0.971489676240621), (-0.005692426191952596, 0.9827488072724057), (0.0034802009837878417, 0.986204070051326), (0.012821098224337617, 0.9902007282932914), (-0.00174918230065677, 0.9869471245890749), (-0.008065176502176488, 0.9915146795389639), (0.0017348224427970202, 1.0074605815247548), (0.0045254871658393205, 1.0026340771386961), (-0.0006279611302993405, 0.9869554908262024), (0.0016362858774580044, 0.9813199682348462), (0.0010487775262322807, 0.9963845179276241), (-0.011371807417599439, 1.0188714221106794), (-0.008341545124189734, 1.0177163994531977), (-0.006772199664515115, 0.999524547640783), (-0.006078274836756131, 0.98638458794019)], [(0.006230543714251464, 0.9755923525661623), (-0.0082727085053763, 1.0031351959616754), (-0.015610219803184423, 1.0064704502150867), (-0.007614978862616291, 1.0102281822269459), (0.005875697201213618, 1.0112877058634724), (0.0038980835875012006, 0.9948822990304413), (0.025357063602505798, 1.0024757774698447), (0.021873586857986006, 1.012184982158901), (0.013896250647289487, 1.0024211410362873), (0.015705346095519084, 1.0131342813177968), (-0.005382697293352304, 1.019525330107017), (-0.019427054551684097, 1.0035135278665324), (-0.009546482276811886, 1.0020478726255309), (0.01139960801886028, 1.0009569941796657), (0.029033302770222945, 0.9803470017588741), (0.03347081882165789, 0.9964586960312125), (0.013229502168882686, 1.0122804673470907), (0.004303102087477086, 0.9762400181557467), (0.001205817762405274, 0.9696713462577292)], [(-0.008837499579447742, 1.0305517416282493), (0.009061715756503951, 1.0278076125617586), (0.0025936089306926105, 1.008070962202407), (0.001997923544574947, 1.0107450607202044), (0.0060270898161080885, 0.9857730702933086), (-0.005032528446424093, 0.9833845248822721), (-0.0023948986581399886, 1.019778064521398), (-0.01290108470375333, 1.0055190889280272), (-0.015657992341352383, 0.9850593736131923), (-0.004401874496122407, 0.981980662618389), (-0.007972891154647286, 0.997107902190821), (-0.009643196675332331, 0.99116107729389), (0.00561836613064776, 0.9941505753147436), (0.0138825672021267, 1.0125715889307898), (0.0065257086511674445, 1.0075035184001708), (-0.004085474702029016, 1.001935459329502), (-0.0032030765417281884, 1.0158396021153469), (0.011577666607959374, 1.0021956293774348), (0.007945120011903473, 0.990781334045057)], [(0.008496854344137049, 0.975388796139222), (0.011632749551881842, 0.9775916751822644), (0.005745531014648746, 0.9750040449770235), (0.019612925687203762, 0.9809724026835829), (0.013744980487326865, 0.9949409201860657), (-0.005093174381631311, 0.9930175912817223), (0.01098584124998269, 0.9907103318282833), (0.014826532011084212, 0.9951230973311798), (-0.0006840623041424488, 0.9892733064661683), (-0.004113959450634522, 0.9931729063901817), (-0.0012265392045679594, 0.9924567743009945), (0.0076004853533783445, 0.9982630559763894), (0.00207288149866322, 1.0149299625820947), (-0.0102292976700751, 0.9907682628176872), (-0.00668138643677338, 0.9968931653905997), (-0.008309911517667674, 1.0156312399076985), (-0.017883875882210153, 0.9954364223447061), (-0.009460771668581305, 1.0147880026679357), (-0.013975976032440477, 1.0095843390083736)], [(0.011346663859875752, 0.9906826182570537), (-0.008652830762748588, 0.9981221712925602), (-0.01485553354883536, 1.000822753408087), (-0.014964732239997978, 0.9883888000675314), (0.007052176533643137, 1.0024908582700918), (0.01620044282279782, 0.9839134468518912), (0.00016497300769095774, 0.9636391188816047), (-0.003693628392876845, 0.9648294071741597), (4.344711858185946e-05, 0.9697064846542307), (0.0012247282359762724, 0.9851720675880317), (-0.013857709945313913, 0.9923340369710553), (-0.023790880556219272, 0.9979750521172702), (-0.010697135865560535, 0.9824673082286286), (0.00848918359133693, 0.9697301865761999), (0.021322950467700018, 0.9942324323591212), (0.0047100978759126375, 0.9843565193340914), (-0.005315760860825789, 0.9989208170741094), (-0.0010135665480370422, 1.034843311874891), (-0.0007783587090415381, 1.0120091260975559)], [(0.008292908982039483, 1.0136793082953004), (0.013024721577376306, 1.0016893704569543), (-0.00019110600838333767, 0.9873338256507348), (-0.00318984035005889, 1.003661500265353), (0.005942770474072628, 0.9960790437634202), (-0.007253343250442939, 0.9880626523869968), (-0.009996965494843187, 0.9945687052006223), (-0.007294572901612874, 1.0012155245371164), (-0.0012153670583094115, 0.9881905373551725), (0.006291136571386618, 0.9902123567771274), (0.0036530761488783353, 0.9941053524143948), (-0.0024555973942955406, 0.9874588187804704), (-0.005210955873760774, 0.9808431669692591), (-0.008788898780809289, 0.972125898083622), (-0.006200710075935017, 0.9937685207084822), (0.013030373559946878, 1.011107699963671), (-0.002601681883279812, 1.0176904252757437), (-0.008664274755645185, 1.0210016148635963), (0.018334670223003714, 1.0182753087578253)]]\n"
     ]
    }
   ],
   "source": [
    "print(all_subject_results)"
   ]
  }
 ],
 "metadata": {
  "kernelspec": {
   "display_name": "Triangulation",
   "language": "python",
   "name": "python3"
  },
  "language_info": {
   "codemirror_mode": {
    "name": "ipython",
    "version": 3
   },
   "file_extension": ".py",
   "mimetype": "text/x-python",
   "name": "python",
   "nbconvert_exporter": "python",
   "pygments_lexer": "ipython3",
   "version": "3.9.18"
  }
 },
 "nbformat": 4,
 "nbformat_minor": 2
}
